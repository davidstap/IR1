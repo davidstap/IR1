{
 "cells": [
  {
   "cell_type": "markdown",
   "metadata": {},
   "source": [
    "The simple dependent click model is based on the following principles:\n",
    "* the first result is always examined\n",
    "* a result can only be examined if the previous result was examined\n",
    "* stop if a clicked result is satisfactory (with probability 1-lambda_r)\n",
    "* continue if result is not satisfactory"
   ]
  },
  {
   "cell_type": "code",
   "execution_count": 5,
   "metadata": {
    "collapsed": false
   },
   "outputs": [],
   "source": [
    "from random import random\n",
    "from collections import Counter\n",
    "\n",
    "\n",
    "class SdcmClickModel(object):\n",
    "    \"\"\" Implements a Simple Dependent Click Model (SDCM). Generates clicks starting\n",
    "        from the first rank, and stochastically decides if a clicked result is \n",
    "        satisfactory, using probabilities trained on a click log. If the result was \n",
    "        not satisfactory, the next result is examined, and then clicked with a \n",
    "        probability dependent on the corresponding relevance label. The probabilities\n",
    "        for each of the relevance labels are taken from the book \"Click Models for \n",
    "        Web Search\".\n",
    "    \n",
    "    Args:\n",
    "        click_log_path (str): Location of the click log.\n",
    "        attr_model (str): Model used for attractiveness parameters\n",
    "                            (perfect/navigational/informative)\n",
    "    \"\"\"\n",
    "\n",
    "    \"\"\"Click model attractiveness parameters\"\"\"\n",
    "    attr_perf = {'HR':1.0, 'R':0.5, 'N':0.0}\n",
    "    attr_nav = {'HR':0.95, 'R':0.5, 'N':0.05}\n",
    "    attr_inf = {'HR':0.9, 'R':0.7, 'N':0.4} \n",
    "    \n",
    "    def __init__(self, click_log_path='YandexRelPredChallenge.txt', attr_model='nav'):\n",
    "        self.click_log_path = click_log_path\n",
    "        if attr_model == 'nav':\n",
    "            self.attr_model = SdcmClickModel.attr_nav\n",
    "        elif attr_model == 'perf':\n",
    "            self.attr_model = SdcmClickModel.attr_perf            \n",
    "        elif attr_model == 'inf':\n",
    "            self.attr_model = SdcmClickModel.attr_inf\n",
    "        else:\n",
    "            raise ValueError('The attractiveness model \"{}\" is not available.' \\\n",
    "                            ' Choose from \"nav\", \"perf\" or \"inf\".'.format(attr_model))\n",
    "        self.params = self.learnParams()\n",
    "            \n",
    "    def learnParams(self):\n",
    "        \"\"\" Learns parameters for simple dependent click model.\n",
    "\n",
    "        Returns:\n",
    "            dict: Learnt click model parameters.\n",
    "\n",
    "        \"\"\"\n",
    "\n",
    "        with open(self.click_log_path,'r') as f:\n",
    "            # global rank click counter\n",
    "            rank_counter = Counter()\n",
    "            # counter for clicks on consecutive ranks\n",
    "            pair_counter = Counter()\n",
    "            for line in f:\n",
    "                line = line.split()\n",
    "                time_passed = line[1]\n",
    "                if time_passed == '0':\n",
    "                    prev_clicked_rank = -100\n",
    "                if line[2] == 'Q':\n",
    "                    results = line[5:]\n",
    "                else:\n",
    "                    url = line[3]\n",
    "                    try:\n",
    "                        clicked_rank = results.index(url)\n",
    "                    except: \n",
    "                        pass\n",
    "                    rank_counter[clicked_rank] += 1\n",
    "                    if clicked_rank == prev_clicked_rank + 1:\n",
    "                        pair_counter[prev_clicked_rank] += 1\n",
    "                    prev_clicked_rank = clicked_rank\n",
    "        lambdas = {r+1:pair_counter[r]/rank_counter[r] for r in pair_counter.keys()}\n",
    "        return lambdas\n",
    "\n",
    "    \n",
    "    def attrProbs(self, ranking):\n",
    "        \"\"\" Assigns attractiveness probabilities for list of relevance labels.\n",
    "\n",
    "        Args:\n",
    "            ranking (list): Ranked list of relevance labels.\n",
    "\n",
    "        Returns:\n",
    "            list: List of attractiveness probabilities corresponding with ranking.\n",
    "\n",
    "        \"\"\"\n",
    "        probs = [self.attr_model[label] for i, label in enumerate(ranking)]\n",
    "        return probs\n",
    "\n",
    "    def assignClicks(self, ranking):\n",
    "        \"\"\" Assigns clicks based on attractiveness and satisfactoriness probabilities.\n",
    "\n",
    "        Args:\n",
    "            ranking (list): Ranked list of relevance labels.\n",
    "\n",
    "        Returns:\n",
    "            list: Assigned clicks.\n",
    "\n",
    "        \"\"\"\n",
    "        probs = self.attrProbs(ranking)\n",
    "        \n",
    "        clicks = []  \n",
    "        for i in range(len(probs)):\n",
    "            if i == 0:\n",
    "                # for first result, click probability equals attractiveness\n",
    "                p_click = probs[i]\n",
    "            else:\n",
    "                prev_click = clicks[i-1]\n",
    "                if prev_click == 1:\n",
    "                    p_satisf = 1 - self.params[i]\n",
    "                    # stochastically decide satisfactoriness    \n",
    "                    outcome = random()\n",
    "                    if outcome < p_satisf:\n",
    "                        # when the clicked result was satisfactory, stop\n",
    "                        clicks += ([0] * (len(probs) - len(clicks)))\n",
    "    #                     print('Result {} was satisfactory!'.format(i))\n",
    "                        break\n",
    "                    else:\n",
    "                        p_click = probs[i]\n",
    "                else:\n",
    "                    p_click = probs[i]\n",
    "            # stochastically decide click \n",
    "            outcome = random()\n",
    "            if outcome < p_click:\n",
    "                clicks.append(1)\n",
    "            else: clicks.append(0)\n",
    "        return clicks"
   ]
  },
  {
   "cell_type": "code",
   "execution_count": 6,
   "metadata": {
    "collapsed": false
   },
   "outputs": [],
   "source": [
    "model = SdcmClickModel()"
   ]
  },
  {
   "cell_type": "code",
   "execution_count": 20,
   "metadata": {
    "collapsed": false
   },
   "outputs": [
    {
     "data": {
      "text/plain": [
       "[1, 1, 0, 0, 1, 0, 0]"
      ]
     },
     "execution_count": 20,
     "metadata": {},
     "output_type": "execute_result"
    }
   ],
   "source": [
    "ranking = ['HR', 'R', 'R', 'N', 'HR', 'N', 'R']\n",
    "model.assignClicks(ranking)"
   ]
  },
  {
   "cell_type": "code",
   "execution_count": null,
   "metadata": {
    "collapsed": true
   },
   "outputs": [],
   "source": []
  }
 ],
 "metadata": {
  "anaconda-cloud": {},
  "kernelspec": {
   "display_name": "Python [conda env:ml1labs]",
   "language": "python",
   "name": "conda-env-ml1labs-py"
  },
  "language_info": {
   "codemirror_mode": {
    "name": "ipython",
    "version": 3
   },
   "file_extension": ".py",
   "mimetype": "text/x-python",
   "name": "python",
   "nbconvert_exporter": "python",
   "pygments_lexer": "ipython3",
   "version": "3.6.2"
  }
 },
 "nbformat": 4,
 "nbformat_minor": 0
}
