{
 "cells": [
  {
   "cell_type": "markdown",
   "metadata": {},
   "source": [
    "The simple dependent click model is based on the following principles:\n",
    "* the first result is always examined\n",
    "* a result can only be examined if the previous result was examined\n",
    "* stop if a clicked result is satisfactory (with probability 1-lambda_r)\n",
    "* continue if result is not satisfactory"
   ]
  },
  {
   "cell_type": "code",
   "execution_count": 101,
   "metadata": {
    "collapsed": false
   },
   "outputs": [],
   "source": [
    "from random import random\n",
    "from collections import Counter\n",
    "\n",
    "def sdcmLearnParams(click_log_path):\n",
    "    \"\"\" Learns parameters for simple dependent click model.\n",
    "    \n",
    "    Args:\n",
    "        click_log_path (str): Path to training data.\n",
    "    \n",
    "    Returns:\n",
    "        dict: Learnt click model parameters.\n",
    "        \n",
    "    \"\"\"\n",
    "    \n",
    "    with open(click_log_path,'r') as f:\n",
    "        # global rank click counter\n",
    "        rank_counter = Counter()\n",
    "        # counter for clicks on consecutive ranks\n",
    "        pair_counter = Counter()\n",
    "        # rank counter that resets for each new session\n",
    "        temp_counter = Counter()\n",
    "        result_pages = []\n",
    "        for line in f:\n",
    "            line = line.split()\n",
    "            time_passed = line[1]\n",
    "            if time_passed == '0':\n",
    "                result_pages = []\n",
    "                for rank, _ in temp_counter.items():\n",
    "                    prev_idx = int(rank)-1\n",
    "                    if temp_counter[prev_idx] > 0:\n",
    "                        # increase counter if previous url was clicked\n",
    "                        pair_counter[prev_idx] += 1\n",
    "                temp_counter = Counter()\n",
    "            if line[2] == 'Q':\n",
    "                result_pages.append(line[5:])\n",
    "            else:\n",
    "                url = line[3]\n",
    "                for results in result_pages:\n",
    "                    try:\n",
    "                        rank = results.index(url)\n",
    "                        rank_counter[rank] += 1\n",
    "                        temp_counter[rank] += 1\n",
    "                        break\n",
    "                    except:\n",
    "                        pass\n",
    "    lambdas = {r+1:pair_counter[r]/rank_counter[r] for r in pair_counter.keys()}\n",
    "    return lambdas\n",
    "\n",
    "def sdcmAttrProbs(ranking, attr):\n",
    "    \"\"\" Assigns attractiveness probabilities for list of relevance labels.\n",
    "    \n",
    "    Args:\n",
    "        ranking (list): Ranked list of relevance labels.\n",
    "        atrr (dict): Attractiveness parameters for different relevance labels.\n",
    "    \n",
    "    Returns:\n",
    "        list: List of attractiveness probabilities.\n",
    "    \n",
    "    \"\"\"\n",
    "    probs = [attr[label] for i, label in enumerate(ranking)]\n",
    "    return probs\n",
    "    \n",
    "def sdcmAssignClicks(probs, params):\n",
    "    \"\"\" Assigns clicks based on attractiveness and satisfactoriness probabilities.\n",
    "    \n",
    "    Args:\n",
    "        probs (list): Attractiveness probabilities for ranking.\n",
    "        params (dict): Satisfactoriness probabilities per rank.\n",
    "        \n",
    "    Returns:\n",
    "        list: Assigned clicks.\n",
    "    \n",
    "    \"\"\"\n",
    "    clicks = []  \n",
    "    for i in range(len(probs)):\n",
    "        if i == 0:\n",
    "            # for first result, click probability equals attractiveness\n",
    "            p_click = probs[i]\n",
    "        else:\n",
    "            prev_click = clicks[i-1]\n",
    "            if prev_click == 1:\n",
    "                p_satisf = params[i]\n",
    "                # stochastically decide satisfactoriness    \n",
    "                outcome = random()\n",
    "                if outcome < p_satisf:\n",
    "                    # when the clicked result was satisfactory, stop\n",
    "                    clicks += ([0] * (len(probs) - len(clicks)))\n",
    "                    print('Result {} was satisfactory!'.format(i))\n",
    "                    break\n",
    "                else:\n",
    "                    p_click = probs[i]\n",
    "            else:\n",
    "                p_click = probs[i]\n",
    "        # stochastically decide click \n",
    "        outcome = random()\n",
    "        if outcome < p_click:\n",
    "            clicks.append(1)\n",
    "        else: clicks.append(0)\n",
    "    return clicks\n",
    "\n",
    "def sdcmClickModel(ranking, click_log_path='YandexRelPredChallenge.txt', attr=attr_nav):\n",
    "    \"\"\" Trains click model parameters and assigns clicks to ranked list of relevance labels.\n",
    "    \n",
    "    Args:\n",
    "        ranking (list):  Ranked list of relevance labels.\n",
    "        click_log_path (str): Path to training data.        \n",
    "        attr (dict): Attractiveness parameters for different relevance labels.\n",
    "        \n",
    "    Returns:\n",
    "        list: Assigned clicks.\n",
    "    \n",
    "    \"\"\"\n",
    "    params = sdcmLearnParams(click_log_path)\n",
    "    probs = sdcmAttrProbs(ranking, attr)\n",
    "    clicks = sdcmAssignClicks(probs, params)\n",
    "    return clicks\n",
    "\n",
    "\"\"\"Click model attractiveness parameters\"\"\"\n",
    "attr_perf = {'HR':1.0, 'R':0.5, 'N':0.0}\n",
    "attr_nav = {'HR':0.95, 'R':0.5, 'N':0.05}\n",
    "attr_inf = {'HR':0.9, 'R':0.7, 'N':0.4}"
   ]
  },
  {
   "cell_type": "code",
   "execution_count": 103,
   "metadata": {
    "collapsed": false
   },
   "outputs": [
    {
     "data": {
      "text/plain": [
       "[1, 0, 1, 1, 1, 0, 1]"
      ]
     },
     "execution_count": 103,
     "metadata": {},
     "output_type": "execute_result"
    }
   ],
   "source": [
    "ranking = ['HR', 'R', 'R', 'N', 'HR', 'N', 'R']\n",
    "sdcmClickModel(ranking)"
   ]
  },
  {
   "cell_type": "code",
   "execution_count": 5,
   "metadata": {
    "collapsed": false
   },
   "outputs": [
    {
     "data": {
      "image/png": "[encoded data removed]",
      "text/plain": [
       "<matplotlib.figure.Figure at 0x1149d1198>"
      ]
     },
     "metadata": {},
     "output_type": "display_data"
    }
   ],
   "source": [
    "import matplotlib.pyplot as plt\n",
    "\n",
    "for r, lambda_value in params.items():\n",
    "    plt.plot(r,lambda_value,'ro')\n",
    " \n",
    "plt.xlabel('r')\n",
    "plt.ylabel('lambda_r')    \n",
    "plt.show()    "
   ]
  }
 ],
 "metadata": {
  "anaconda-cloud": {},
  "kernelspec": {
   "display_name": "Python [conda env:ml1labs]",
   "language": "python",
   "name": "conda-env-ml1labs-py"
  },
  "language_info": {
   "codemirror_mode": {
    "name": "ipython",
    "version": 3
   },
   "file_extension": ".py",
   "mimetype": "text/x-python",
   "name": "python",
   "nbconvert_exporter": "python",
   "pygments_lexer": "ipython3",
   "version": "3.6.2"
  }
 },
 "nbformat": 4,
 "nbformat_minor": 0
}
