{
 "cells": [
  {
   "cell_type": "code",
   "execution_count": 8,
   "metadata": {
    "collapsed": false
   },
   "outputs": [
    {
     "name": "stdout",
     "output_type": "stream",
     "text": [
      "Number of possible ranking pairs:  58806\n"
     ]
    }
   ],
   "source": [
    "from itertools import product\n",
    " \n",
    "def generate_ranking_pairs(grades, rank_len):\n",
    "    \"\"\" Generates all possible ranking pairs, excluding pairs of \n",
    "        equal rankings\n",
    "\n",
    "    Args:\n",
    "        grades (list): Possible grades in ranking.\n",
    "        rank_len (int): Length of ranking pairs.\n",
    "\n",
    "    Returns:\n",
    "        generator: All possible ranking pairs.\n",
    "    \"\"\"\n",
    "    \n",
    "    # generate all possible rankings\n",
    "    rankings = product(grades, repeat=rank_len)\n",
    "    # generate all possible pairs of rankings\n",
    "    pairs = product(rankings, repeat=2)    \n",
    "    # exclude pairs of equal rankings\n",
    "    pairs = filter(lambda pair: pair[0] != pair[1], pairs)\n",
    "    \n",
    "    return pairs\n",
    "\n",
    "grades = ['HR', 'R', 'N']\n",
    "rank_len = 5\n",
    "\n",
    "pairs = generate_ranking_pairs(grades, rank_len)\n",
    "print('Number of possible ranking pairs: ', len(list(pairs)))"
   ]
  },
  {
   "cell_type": "code",
   "execution_count": null,
   "metadata": {
    "collapsed": true
   },
   "outputs": [],
   "source": []
  }
 ],
 "metadata": {
  "anaconda-cloud": {},
  "kernelspec": {
   "display_name": "Python [default]",
   "language": "python",
   "name": "python3"
  },
  "language_info": {
   "codemirror_mode": {
    "name": "ipython",
    "version": 3
   },
   "file_extension": ".py",
   "mimetype": "text/x-python",
   "name": "python",
   "nbconvert_exporter": "python",
   "pygments_lexer": "ipython3",
   "version": "3.4.4"
  }
 },
 "nbformat": 4,
 "nbformat_minor": 2
}
