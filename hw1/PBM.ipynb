{
 "cells": [
  {
   "cell_type": "code",
   "execution_count": 216,
   "metadata": {},
   "outputs": [],
   "source": [
    "from collections import Counter\n",
    "from random import uniform\n",
    "\n",
    "def trainPBM(click_log_path):\n",
    "    \"\"\"Returns rank-based click probabilites based on click log from file path.\n",
    "\n",
    "    Args:\n",
    "        click_log_path (string): File path.\n",
    "\n",
    "    Returns:\n",
    "        list: rank-based click probabilities.\n",
    "    \"\"\"\n",
    "    pos_count = Counter()\n",
    "    with open(click_log_path,'r') as f:\n",
    "        for line in f:\n",
    "            line = line.split()            \n",
    "            # If line is query, update Q\n",
    "            if line[2] == 'Q':\n",
    "                Q = line[-10:]\n",
    "            # else line is a click, check position\n",
    "            else:\n",
    "                # sometimes search is non-chronological. Skip these cases (<1% affected)\n",
    "                try:\n",
    "                    index = Q.index(line[3])+1\n",
    "                    pos_count[index] += 1\n",
    "                except:\n",
    "                    pass\n",
    "    # normalize          \n",
    "    return [pos_count[key] / sum(pos_count.values()) for key in pos_count]\n",
    "\n",
    "def randomProbsPBM(ranking):\n",
    "    '''\n",
    "    Generates the uniform probabilities for each document in a ranking. \n",
    "    Used for comparison in def assignClicksPBM\n",
    "    \n",
    "    Args:\n",
    "        ranking (list): list of ranked documents represented by relevance.\n",
    "        \n",
    "    Return:\n",
    "        list: A list of click probabilities (uniform) for each document in the ranking.\n",
    "    '''\n",
    "    click_probabilities = []\n",
    "    for doc in ranking:\n",
    "        click_probabilities.append(uniform(0,1))\n",
    "    return click_probabilities\n",
    "\n",
    "\n",
    "def assignClicksPBM(click_probabilities, P_click):\n",
    "    '''\n",
    "    Based on click probabilities, either do or do not assign a click to each document.\n",
    "    \n",
    "    Args:\n",
    "        click_probabilities (list): uniform sampled probabilities.\n",
    "        P_click (list): probabilities of clicking on document.\n",
    "        \n",
    "    Return:\n",
    "        List: A list representing clicks with 1's on documents in ranking with the same index.\n",
    "    '''\n",
    "    clicks = []\n",
    "    for i in range(len(click_probabilities)):\n",
    "        if click_probabilities[i] < P_click[i]:\n",
    "            clicks.append(1)\n",
    "        else:\n",
    "            clicks.append(0)\n",
    "    return clicks"
   ]
  },
  {
   "cell_type": "code",
   "execution_count": 217,
   "metadata": {},
   "outputs": [
    {
     "data": {
      "text/plain": [
       "[0, 1, 0, 1, 0]"
      ]
     },
     "execution_count": 217,
     "metadata": {},
     "output_type": "execute_result"
    }
   ],
   "source": [
    "def positionBasedModel(click_log_path, ranking):\n",
    "    '''\n",
    "    Implementation of positionBasedModel. This model decides to click on a document\n",
    "    with a probability P_click determined by log data positions.\n",
    "    \n",
    "    Args:\n",
    "        click_log_path (String): Location of the click log.\n",
    "        ranking (List): List of ranked documents represented by relevance.\n",
    "        \n",
    "    Return:\n",
    "        List: A list representing clicks with 1's on documents in ranking with the same index.\n",
    "    '''\n",
    "    P_click = trainPBM(click_log_path)\n",
    "    click_probabilities = randomProbsPBM(ranking)\n",
    "    clicks = assignClicksPBM(click_probabilities, P_click[:len(click_probabilities)])\n",
    "    return clicks\n",
    "\n",
    "positionBasedModel('YandexRelPredChallenge.txt', ['R', 'NR', 'HR', 'HR', 'HR'])"
   ]
  },
  {
   "cell_type": "code",
   "execution_count": 218,
   "metadata": {},
   "outputs": [
    {
     "data": {
      "image/png": "[encoded data removed]",
      "text/plain": [
       "<matplotlib.figure.Figure at 0x1090df278>"
      ]
     },
     "metadata": {},
     "output_type": "display_data"
    }
   ],
   "source": [
    "import matplotlib.pyplot as plt\n",
    "x = trainPBM('YandexRelPredChallenge.txt')\n",
    "plt.plot(list(range(1,len(x)+1)),x)\n",
    "plt.show()"
   ]
  },
  {
   "cell_type": "code",
   "execution_count": null,
   "metadata": {},
   "outputs": [],
   "source": []
  }
 ],
 "metadata": {
  "kernelspec": {
   "display_name": "Python 3",
   "language": "python",
   "name": "python3"
  },
  "language_info": {
   "codemirror_mode": {
    "name": "ipython",
    "version": 3
   },
   "file_extension": ".py",
   "mimetype": "text/x-python",
   "name": "python",
   "nbconvert_exporter": "python",
   "pygments_lexer": "ipython3",
   "version": "3.5.4"
  }
 },
 "nbformat": 4,
 "nbformat_minor": 2
}
