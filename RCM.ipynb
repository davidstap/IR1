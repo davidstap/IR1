{
 "cells": [
  {
   "cell_type": "markdown",
   "metadata": {},
   "source": [
    "## Step 5 - Randon Click Model \n",
    "Consider two different click models, (a) the Random Click Model (RCM), and (b) one out of the remaining 3 aforementioned models. The parameters of some of these models can be estimated using the Maximum Likelihood Estimation (MLE) method, while others require using the Expectation-Maximization (EM) method. Implement the two models so that (a) there is a method that learns the parameters of the model given a set of training data, (b) there is a method that predicts the click probability given a ranked list of relevance labels, (c) there is a method that decides - stochastically - whether a document is clicked based on these probabilities.\n",
    "Having implemented the two click models, estimate the model parameters using the Yandex Click Log [file].\n",
    "(Note 6: Do not learn the attractiveness parameter 𝑎uq)"
   ]
  },
  {
   "cell_type": "code",
   "execution_count": 3,
   "metadata": {
    "collapsed": true
   },
   "outputs": [],
   "source": [
    "from random import uniform\n",
    "\n",
    "def trainRCM(click_log_path):\n",
    "    '''\n",
    "    Estimates the only parameter P_click of the Random Click Model using a click log\n",
    "    by dividing the total amount of clicks by the total amount of shown documents.\n",
    "    \n",
    "    Args:\n",
    "        click_log_path (String): Location of the click log.\n",
    "        \n",
    "    Return:\n",
    "        Float: The P_click parameter used to decide whether to click on a document.\n",
    "        \n",
    "    '''\n",
    "    shown_docs = 0\n",
    "    clicks = 0\n",
    "    with open(click_log_path,'r') as f:\n",
    "        for line in f:\n",
    "            line = line.split()\n",
    "            \n",
    "            # Count all shown docs\n",
    "            if line[2] == 'Q':\n",
    "                shown_docs += len(line)-5\n",
    "                \n",
    "            # Count all clicks\n",
    "            else:\n",
    "                clicks += 1\n",
    "    P_click = clicks/float(shown_docs)\n",
    "    return P_click\n",
    "\n",
    "def predictProbRCM(ranking, P_click):\n",
    "    '''\n",
    "    Generates the probability for each document in a ranking to be clicked on\n",
    "    based on a Random Click Model.\n",
    "    \n",
    "    Args:\n",
    "        ranking (List): List of ranked documents represented by relevance.\n",
    "        \n",
    "    Return:\n",
    "        List: A list of click probabilities for each document in the ranking.\n",
    "    '''\n",
    "    click_probabilities = []\n",
    "    for doc in ranking:\n",
    "        click_probabilities.append(P_click)\n",
    "    return click_probabilities\n",
    "        \n",
    "def assignClicksRCM(click_probabilities):\n",
    "    '''\n",
    "    Based on their click probabilities, either do or do not assign a click to each document.\n",
    "    \n",
    "    Args:\n",
    "        ranking_probabilities (List): A list of click probability and document tuples.\n",
    "        P_click (float): Probability used to decide whether to click on a document.\n",
    "        \n",
    "    Return:\n",
    "        List: A list representing clicks with 1's on documents in ranking with the same index.\n",
    "    '''\n",
    "    clicks = []\n",
    "    for prob in click_probabilities:\n",
    "        if uniform(0,1) < prob:\n",
    "            clicks.append(1)\n",
    "        else:\n",
    "            clicks.append(0)\n",
    "    return clicks\n",
    "\n",
    "def randomClickModel(click_log_path, ranking):\n",
    "    '''\n",
    "    Implements a Random Click Model. This model decides to click on a document\n",
    "    with a probability P_click without taking anything else into account.\n",
    "    \n",
    "    Args:\n",
    "        click_log_path (String): Location of the click log.\n",
    "        ranking (List): List of ranked documents represented by relevance.\n",
    "        \n",
    "    Return:\n",
    "        List: A list representing clicks with 1's on documents in ranking with the same index.\n",
    "    '''\n",
    "    P_click = trainRCM(click_log_path)\n",
    "    click_probabilities = predictProbRCM(ranking, P_click)\n",
    "    clicks = assignClicksRCM(click_probabilities)\n",
    "    return clicks\n",
    "    "
   ]
  },
  {
   "cell_type": "code",
   "execution_count": 6,
   "metadata": {},
   "outputs": [
    {
     "name": "stdout",
     "output_type": "stream",
     "text": [
      "[0, 1, 0, 0, 0]\n"
     ]
    }
   ],
   "source": [
    "ranking_I = ['HR','R','HR','N','R']\n",
    "click_log_path = 'YandexRelPredChallenge.txt'\n",
    "clicks = randomClickModel(click_log_path, ranking_I)\n",
    "print(clicks)"
   ]
  },
  {
   "cell_type": "code",
   "execution_count": null,
   "metadata": {
    "collapsed": true
   },
   "outputs": [],
   "source": []
  }
 ],
 "metadata": {
  "kernelspec": {
   "display_name": "Python 3",
   "language": "python",
   "name": "python3"
  },
  "language_info": {
   "codemirror_mode": {
    "name": "ipython",
    "version": 3
   },
   "file_extension": ".py",
   "mimetype": "text/x-python",
   "name": "python",
   "nbconvert_exporter": "python",
   "pygments_lexer": "ipython3",
   "version": "3.6.1"
  }
 },
 "nbformat": 4,
 "nbformat_minor": 2
}
